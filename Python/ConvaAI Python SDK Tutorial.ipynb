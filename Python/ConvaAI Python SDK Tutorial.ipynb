{
 "cells": [
  {
   "cell_type": "markdown",
   "id": "9d214446-2e74-42e0-93c5-532647a7f22c",
   "metadata": {},
   "source": [
    "### Install the Conva AI python package and import AsyncConvaAI"
   ]
  },
  {
   "cell_type": "code",
   "execution_count": null,
   "id": "66aed8b5-26b0-4903-879d-f9cbb929d8f4",
   "metadata": {},
   "outputs": [],
   "source": [
    "!pip install conva-ai"
   ]
  },
  {
   "cell_type": "code",
   "execution_count": null,
   "id": "afa63aa3-d4a8-49da-963b-e37f6d559416",
   "metadata": {},
   "outputs": [],
   "source": [
    "from conva_ai import AsyncConvaAI"
   ]
  },
  {
   "cell_type": "markdown",
   "id": "80a56c00-be79-4cd2-bde5-3c994f9d3ce8",
   "metadata": {},
   "source": [
    "### Create an AsyncConvaAI object populated with your Assistant credentials\n",
    "Assistant credentials can be found on the Integration tab of your assistant in Magic Studio"
   ]
  },
  {
   "cell_type": "code",
   "execution_count": null,
   "id": "4e22aa07-6f0c-4b56-b216-010de15084a4",
   "metadata": {},
   "outputs": [],
   "source": [
    "client = AsyncConvaAI(\n",
    "    assistant_id=\"<YOUR_ASSISTANT_ID>\",\n",
    "    assistant_version=\"<YOUR_ASSISTANT_VERSION>\",\n",
    "    api_key=\"<YOUR_API_KEY>\"\n",
    ")"
   ]
  },
  {
   "cell_type": "markdown",
   "id": "267178f7-d953-4674-8631-5f25d06e36e3",
   "metadata": {},
   "source": [
    "### Generate a response from the assistant for a given user input\n",
    "- The invoke_capability method is used to generate a response from your assistant.\n",
    "- The response is an object of the ConvaAIResponse class.\n",
    "- The response attributes relevant to app funcitoning are message, parameters and related_queries.\n",
    "- The stream=False parameter indicates that you want to receive the full response at once."
   ]
  },
  {
   "cell_type": "code",
   "execution_count": null,
   "id": "6bec2206-78ac-45ed-ae47-e5e1ff857980",
   "metadata": {},
   "outputs": [],
   "source": [
    "user_input = \"Show me summer essentials\"\n",
    "response = await client.invoke_capability(user_input, stream=False)\n",
    "print(\"Message: {}\\nParameters: {}\\nRelated Queries: {}\".format(response.message, response.parameters, response.related_queries))"
   ]
  },
  {
   "cell_type": "markdown",
   "id": "f0792367-103f-453f-a2ca-b5dbbcdb972c",
   "metadata": {},
   "source": [
    "Example Output:\n",
    "<br>\n",
    "Message: Searching for summer essentials.\n",
    "<br>\n",
    "Parameters: {'search_term': 'summer essentials'}\n",
    "<br>\n",
    "Related Queries: ['Explore more in fashion', 'Check out home essentials for summer', 'Find summer beauty products', 'Look for kitchen items for summer']"
   ]
  },
  {
   "cell_type": "markdown",
   "id": "b2c8837d-33b9-410a-8e69-44eae6a9f26e",
   "metadata": {},
   "source": [
    "### Generate a response from a specific assistant capability\n",
    "- The invoke_capability_name method allows you to invoke a specific capability from your assistant.\n",
    "- To do so, pass the capability's developer name as the capability_name parameter.\n",
    "- The developer name can be found under Capability Configuration in Magic Studio.\n",
    "- Here is an example of invoking the domain_faq capability, but you may replace it with your own."
   ]
  },
  {
   "cell_type": "code",
   "execution_count": null,
   "id": "cf05eefc-aed2-45b8-8c5b-08dc09a50b5c",
   "metadata": {
    "scrolled": true
   },
   "outputs": [],
   "source": [
    "user_input = \"What are some summer essentials?\"\n",
    "response = await client.invoke_capability_name(user_input, stream=False, capability_name=\"domain_faq\") \n",
    "print(\"Message: {}\\nParameters: {}\\nRelated Queries: {}\".format(response.message, response.parameters, response.related_queries))"
   ]
  },
  {
   "cell_type": "markdown",
   "id": "478a579b-a8eb-4ad8-8e55-92e101e69291",
   "metadata": {},
   "source": [
    "Example Output:\n",
    "<br>\n",
    "Message: Summer essentials include lightweight clothing, sunscreen, and hydration products.\n",
    "<br>\n",
    "Parameters: {'question': 'What are some summer essentials?'}\n",
    "<br>\n",
    "Related Queries: ['Explore lightweight summer outfits', 'Find the best sunscreens', 'Learn about summer skincare routines']"
   ]
  },
  {
   "cell_type": "markdown",
   "id": "d0952b7a-5193-4017-8619-fbff43827c0c",
   "metadata": {},
   "source": [
    "### Streaming Generated Responses\n",
    "- The invoke_capability_name and invoke_capability methods also allow for the streaming of partial responses.\n",
    "- This is enabled by setting the parameter stream=True and may be helpful for longer responses or real-time interactions."
   ]
  },
  {
   "cell_type": "code",
   "execution_count": null,
   "id": "724af079-fb53-4d27-8bba-12be0de61fa4",
   "metadata": {
    "scrolled": true
   },
   "outputs": [],
   "source": [
    "query = \"Give me a detailed explanation of quantum computing\"\n",
    "response = await client.invoke_capability(query, stream=True)\n",
    "async for res in response:\n",
    "    print(\"Message: {}\\nParameters: {}\\nRelated Queries: {}\".format(res.message, res.parameters, res.related_queries))"
   ]
  },
  {
   "cell_type": "markdown",
   "id": "7edae518-95a2-43fe-8e41-d5ae0b0bc33b",
   "metadata": {},
   "source": [
    "Example Output:\n",
    "<br>\n",
    "Message: I'm sorry, I cannot answer that question as it's not related to the app or its products. Please let me know if you have any other questions.\n",
    "<br>\n",
    "Parameters: {}\n",
    "<br>\n",
    "Related Queries: []\n",
    "<br>\n",
    "Message: I'm sorry, I cannot answer that question as it's not related to the app or its products. Please let me know if you have any other questions.\n",
    "<br>\n",
    "Parameters: {}\n",
    "<br>\n",
    "Related Queries: []"
   ]
  },
  {
   "cell_type": "markdown",
   "id": "1927dd40-d3e3-41d6-b5ee-a1762e98d971",
   "metadata": {},
   "source": [
    "### Generating responses with Conversation History\n",
    "\n",
    "- The conversation_history attribute of the response object along with the history parameter of invoke_capability can be utilised to maintain the history of a conversation.\n",
    "- The conversation_history attribute of the the response object is a string the contains the current generated response as well as all past responses that were passed to the invoke_capability through the history parameter.\n",
    "- Running a loop that constantly updates the history parameter before invoke_capability is called allows us to maintain and utilise conversation history."
   ]
  },
  {
   "cell_type": "code",
   "execution_count": null,
   "id": "4d3a30ec-77be-441d-9d36-9d42c55cc9c2",
   "metadata": {},
   "outputs": [],
   "source": [
    "history = \"{}\"\n",
    "while True:\n",
    "    query = input(\"Enter your query: \")\n",
    "    response = await client.invoke_capability(query, stream=False, history=history)\n",
    "    history = response.conversation_history\n",
    "    print(response.message)"
   ]
  },
  {
   "cell_type": "markdown",
   "id": "9748ceff-63cc-4ce7-93dd-587e468ae9f3",
   "metadata": {},
   "source": [
    "Example Output:\n",
    "<br>\n",
    "Enter your query:  Hi\n",
    "<br>\n",
    "Hi there! How's your day going so far?\n",
    "<br>\n",
    "Enter your query:  I'm looking of t shirts\n",
    "<br>\n",
    "Searching for t-shirts.\n",
    "<br>\n",
    "Enter your query:  Red ones in particular\n",
    "<br>\n",
    "Searching for red t-shirts."
   ]
  },
  {
   "cell_type": "markdown",
   "id": "b959ebaa-369e-4f49-8526-3d2d0e0151ea",
   "metadata": {},
   "source": [
    "### Debugging Responses\n",
    "- The reason attribute of the response object can be used to better understand your assistant's throught process in generating its response."
   ]
  },
  {
   "cell_type": "code",
   "execution_count": null,
   "id": "88076425-eb3e-4db0-9110-dbd7437d188f",
   "metadata": {},
   "outputs": [],
   "source": [
    "user_input = \"Show me summer essentials\"\n",
    "response = await client.invoke_capability(user_input, stream=False)\n",
    "print(response.reason)"
   ]
  },
  {
   "cell_type": "markdown",
   "id": "34abd781-a5ed-4f36-ad65-c57c07d09c3b",
   "metadata": {},
   "source": [
    "Example Output:\n",
    "<br>\n",
    "Let's think about this step by step. The user is looking for summer essentials. The search term is 'summer essentials'. This will encompass various products suitable for the summer season, such as clothing, accessories, and home items that provide comfort during hot weather.\n"
   ]
  },
  {
   "cell_type": "code",
   "execution_count": null,
   "id": "788fbbe1-9b13-4631-9a6c-b2fb8ca75a6f",
   "metadata": {},
   "outputs": [],
   "source": []
  }
 ],
 "metadata": {
  "kernelspec": {
   "display_name": "Python 3 (ipykernel)",
   "language": "python",
   "name": "python3"
  },
  "language_info": {
   "codemirror_mode": {
    "name": "ipython",
    "version": 3
   },
   "file_extension": ".py",
   "mimetype": "text/x-python",
   "name": "python",
   "nbconvert_exporter": "python",
   "pygments_lexer": "ipython3",
   "version": "3.10.13"
  }
 },
 "nbformat": 4,
 "nbformat_minor": 5
}
